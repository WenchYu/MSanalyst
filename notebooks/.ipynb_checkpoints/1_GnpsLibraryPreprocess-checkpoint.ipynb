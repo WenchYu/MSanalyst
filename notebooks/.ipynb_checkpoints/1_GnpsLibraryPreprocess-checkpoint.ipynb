{
 "cells": [
  {
   "cell_type": "markdown",
   "id": "e2212425-67c7-4b1b-9e96-6b9e11aa1d56",
   "metadata": {},
   "source": [
    "# Import library"
   ]
  },
  {
   "cell_type": "code",
   "execution_count": 1,
   "id": "e99f090e-6a84-4dc2-be8f-5139cd1a6fc2",
   "metadata": {},
   "outputs": [],
   "source": [
    "import sys\n",
    "sys.argv = ['jupyter']  # Clear the parameters passed to Jupyter\n",
    "sys.path.append('../')"
   ]
  },
  {
   "cell_type": "code",
   "execution_count": 2,
   "id": "3ab27021-7d7e-4264-ae35-fed36b7e236b",
   "metadata": {},
   "outputs": [
    {
     "name": "stderr",
     "output_type": "stream",
     "text": [
      "Determination of memory status is not supported on this \n",
      " platform, measuring for memoryleaks will never fail\n"
     ]
    }
   ],
   "source": [
    "import sys\n",
    "sys.path.append('../')\n",
    "import time,json,os,re\n",
    "import spectral_entropy as se\n",
    "from my_packages import functions_new, peaktools\n",
    "import numpy as np\n",
    "import pandas as pd\n",
    "from tqdm import trange,tqdm\n",
    "from rdkit import Chem, RDLogger"
   ]
  },
  {
   "cell_type": "markdown",
   "id": "4f5f3675-bfdc-47a0-a9c4-66f5e65fc6a9",
   "metadata": {},
   "source": [
    "# GNPS library Operation\n",
    "1. Library\n",
    "    * GNPS-LIBRARY\n",
    "    * [GNPS Link](https://external.gnps2.org/gnpslibrary)\n",
    "2. Spectral type\n",
    "    * ionnization mode\n",
    "    * dissociation type\n",
    "    * instrumental platform\n",
    "    * collision energy\n",
    "    * spectral quality\n",
    "    * preprocess or not"
   ]
  },
  {
   "cell_type": "markdown",
   "id": "c7dd46f6-950e-4618-bb49-d28748c9327d",
   "metadata": {},
   "source": [
    "## Preprocess library\n",
    "1. Convert mgf file to json format (easy access by CCMSID)\n",
    "2. Clean spectra (1% noise removing, normalizing, truncating precursor)\n",
    "3. Retrive NPclassifer classes"
   ]
  },
  {
   "cell_type": "markdown",
   "id": "7be4938d-d18e-4b61-a436-0625188ad84c",
   "metadata": {},
   "source": [
    "### MGF converting & Spectrum cleaning"
   ]
  },
  {
   "cell_type": "code",
   "execution_count": 4,
   "id": "ce30ac62-38c6-4720-b040-0bacfc2398de",
   "metadata": {},
   "outputs": [],
   "source": [
    "# Converting 'GNPS-LIBRARY.mgf' to json file {CCMSID1:{},CCMSID1:{},...}\n",
    "# Retain positive\n",
    "# Load files\n",
    "DIR = '../msdb/GNPSLIBRARY_250514/'\n",
    "GNPS_LIBRARY_file = os.path.join(DIR,'GNPS-LIBRARY.mgf') # Download from the GNPS as of 250514\n",
    "ALL_GNPS_NP_file = os.path.join(DIR,'ALL_GNPS_NO_PROPOGATED.mgf')\n",
    "\n",
    "# MGF to json, using CCMSID as key\n",
    "# GNPSLIBRARY_PROCESS = functions_new.MgfProcess(GNPS_LIBRARY_file)\n",
    "# GNPSLIBRARY_PROCESS = functions_new.MgfProcess(ALL_GNPS_file)\n",
    "\n",
    "# MGFINFO = GNPSLIBRARY_PROCESS.gnps_mgf_extract() # \n",
    "# with open(f'../msdb/GNPSLIBRARY_250514/{os.path.basename(ALL_GNPS_file).split(\".\")[0]}-INFO.json', 'w') as f:\n",
    "#     json.dump(MGFINFO, f) "
   ]
  },
  {
   "cell_type": "code",
   "execution_count": 5,
   "id": "3e9067ef-8748-4b30-9c5f-98e8e5e2383a",
   "metadata": {},
   "outputs": [],
   "source": [
    "ALL_GNPS_NP = functions_new.load_spectra_from_file(ALL_GNPS_NP_file)"
   ]
  },
  {
   "cell_type": "code",
   "execution_count": 38,
   "id": "d8b7751a-984e-4238-b8aa-368b26ed518e",
   "metadata": {},
   "outputs": [
    {
     "name": "stderr",
     "output_type": "stream",
     "text": [
      "100%|█████████████████████████████████| 908030/908030 [02:57<00:00, 5122.86it/s]\n"
     ]
    }
   ],
   "source": [
    "# Access information\n",
    "GNPS_INFO = {}\n",
    "for i in trange(len(ALL_GNPS_NP)):\n",
    "    SPECTRUM = ALL_GNPS_NP[i]\n",
    "    METADATA = SPECTRUM.metadata # ionmode,smiles,inchi,precursor_mz,ionmode,spectrum_id\n",
    "    try:\n",
    "        if METADATA['ionmode'] == 'positive':\n",
    "            MZ = SPECTRUM.mz\n",
    "            INT = SPECTRUM.intensities\n",
    "            PEAKs = np.column_stack((SPECTRUM.mz,SPECTRUM.intensities))\n",
    "            PM = METADATA['precursor_mz']\n",
    "            CHARGE = METADATA['charge']\n",
    "            IONMODE = METADATA['ionmode']\n",
    "            try:\n",
    "                SMILE = METADATA['smiles']\n",
    "            except:\n",
    "                SMILE = ''\n",
    "\n",
    "            GNPS_INFO[CCMSID] = {'pepmass':PM,'charge':CHARGE,'ionmode':IONMODE\n",
    "                     ,'smiles':SMILE,'inchi':INCHI,'ms2':PEAKs.tolist()}\n",
    "\n",
    "            if S\n",
    "            try:\n",
    "                INCHI = METADATA['inchi']\n",
    "            except:\n",
    "                INCHI = ''\n",
    "            CCMSID = METADATA['spectrum_id']\n",
    "            \n",
    "            GNPS_INFO[CCMSID] = {'pepmass':PM,'charge':CHARGE,'ionmode':IONMODE\n",
    "                                 ,'smiles':SMILE,'inchi':INCHI,'ms2':PEAKs.tolist()}\n",
    "    except:\n",
    "        pass"
   ]
  },
  {
   "cell_type": "code",
   "execution_count": 42,
   "id": "0418b232-e35d-4fa4-8237-023dbc82002b",
   "metadata": {},
   "outputs": [],
   "source": [
    "# To MS1 DataFrame\n",
    "data_list_comprehension = [\n",
    "    {\n",
    "        'CCMSID': ccmsid,\n",
    "        'pepmass': info.get('pepmass'),\n",
    "        'smiles': info.get('smiles'),\n",
    "        'inchi': info.get('inchi')\n",
    "    }\n",
    "    for ccmsid, info in GNPS_INFO.items()\n",
    "]\n",
    "\n",
    "# Create the DataFrame\n",
    "df_comprehension = pd.DataFrame(data_list_comprehension)\n",
    "df_comprehension_FILE = os.path.join(DIR,'edbMS1.csv')\n",
    "df_comprehension.to_csv(df_comprehension_FILE)"
   ]
  },
  {
   "cell_type": "code",
   "execution_count": 43,
   "id": "c2b61580-454a-4dcf-8f43-5dc042134190",
   "metadata": {},
   "outputs": [],
   "source": [
    "# To MS2 JSON\n",
    "GNPS_INFO_FILE = os.path.join(DIR,'edb_info.json')\n",
    "with open(GNPS_INFO_FILE, \"w\") as f:\n",
    "    json.dump(GNPS_INFO, f)"
   ]
  },
  {
   "cell_type": "code",
   "execution_count": null,
   "id": "86accb2f-60b1-4541-8941-fde8fd022a26",
   "metadata": {},
   "outputs": [],
   "source": []
  },
  {
   "cell_type": "code",
   "execution_count": 2,
   "id": "20a93788-2f81-4ac3-a7ef-b7963bb67993",
   "metadata": {},
   "outputs": [],
   "source": [
    "# Loading the saved library json file\n",
    "with open('../msdb/GNPSLIBRARY_250514/GNPS-LIBRARY-INFO.json','r') as f:\n",
    "    GNPS_LIBRARY_INFO = json.load(f)"
   ]
  },
  {
   "cell_type": "code",
   "execution_count": 4,
   "id": "68e68d14-659f-45f0-a45c-3723734dc082",
   "metadata": {},
   "outputs": [],
   "source": [
    "# Access the library by specific CCMSID, each value of entities is <str> type\n",
    "CCMSID1 = 'CCMSLIB00000001547'\n",
    "SPEC1, SPECTRUM1 = functions_new.GNPS_info_format(GNPS_LIBRARY_INFO,CCMSID1)\n",
    "\n",
    "CCMSID2 = 'CCMSLIB00000001548'\n",
    "SPEC2, SPECTRUM2 = functions_new.GNPS_info_format(GNPS_LIBRARY_INFO,CCMSID2)\n"
   ]
  },
  {
   "cell_type": "code",
   "execution_count": 15,
   "id": "7acd935f-60e1-462e-bf8f-6c7faeb10e6b",
   "metadata": {},
   "outputs": [
    {
     "data": {
      "text/plain": [
       "SimilarityTuple(score=0.023287164760404266, matched_intensity=0.09606859785142204, max_contribution=0.02171764150261879, n_greq_2p=1, matches=4, matched_indices=array([125, 133, 143, 167]), matched_indices_other=array([21, 25, 34, 52]))"
      ]
     },
     "execution_count": 15,
     "metadata": {},
     "output_type": "execute_result"
    }
   ],
   "source": [
    "# MS2 comparison\n",
    "sim = se.similarity(SPEC1, SPEC2, method='bhattacharya_2', ms2_da=0.05)\n",
    "\n",
    "\n",
    "NL_result = peaktools.neutral_loss(SPECTRUM1, SPECTRUM2,0.05)\n",
    "MCS_result = peaktools.modified_cosine(SPECTRUM1, SPECTRUM2,0.05)\n",
    "MCS_result"
   ]
  },
  {
   "cell_type": "markdown",
   "id": "5d28f885-94b6-42f0-9118-2b83bce4db6e",
   "metadata": {},
   "source": [
    "## Filtering CCMSIDs\n",
    "* Generate as '.npy' format\n",
    "Since spectra have different adducts type,sourced from redundant structures and different instrument platform\n",
    "It is necessary to remove influences mentioned above before evaluating the spectral similarity matrices"
   ]
  },
  {
   "cell_type": "code",
   "execution_count": null,
   "id": "c413a470-ee6f-4230-9d68-aa077d085929",
   "metadata": {},
   "outputs": [],
   "source": [
    "t = time.time()\n",
    "\n",
    "# Loading preprocessed json file\n",
    "gnps_library_file = '../msdb/GNPSLIBRARY_250514/GNPS-LIBRARY-INFO_new.json'\n",
    "with open(gnps_library_file,'r') as f:\n",
    "    gnps_info = json.load(f)\n",
    "\n",
    "# Filtering CCMSIDs by instrument and adduct type\n",
    "filtered_IDs, ADDUCTs,INSTRUMENTs = [],[],[]\n",
    "PATTERN = re.compile(r'qtof$', re.IGNORECASE)\n",
    "for key, value in tqdm(gnps_info.items(),total=len(gnps_info)):\n",
    "    ADDUCT = value[\"ADDUCT\"]\n",
    "    ADDUCTs.append(ADDUCT)\n",
    "    INSTRUMENT = value[\"INSTRUMENT\"]\n",
    "    INSTRUMENTs.append(INSTRUMENT)\n",
    "    if ADDUCT == 'M+H' and re.search(PATTERN,INSTRUMENT):\n",
    "        filtered_IDs.append(key)\n",
    "        \n",
    "# Duplicate structures\n",
    "nonredundant_SMILES = []\n",
    "nonredundant_IDs = []\n",
    "for ID in tqdm(filtered_IDs,total=len(filtered_IDs)):\n",
    "    try:\n",
    "        SMILE1 = Chem.CanonSmiles(gnps_info[ID]['SMILE'])\n",
    "        if not nonredundant_SMILES: # append the 1st smile in the empty list\n",
    "            nonredundant_SMILES.append(SMILE1)\n",
    "            nonredundant_IDs.append(ID)\n",
    "        else:\n",
    "            if Chem.CanonSmiles(SMILE1) not in nonredundant_SMILES:\n",
    "                nonredundant_SMILES.append(SMILE1)\n",
    "                nonredundant_IDs.append(ID)\n",
    "    except:pass\n",
    "\n",
    "# Saving CCMSIDs \n",
    "np.save('H_qtof_non-redundant_CCMSIDs.npy',nonredundant_IDs)"
   ]
  },
  {
   "cell_type": "code",
   "execution_count": null,
   "id": "1d8f3b69-f9b3-4417-a340-7287fd785482",
   "metadata": {},
   "outputs": [],
   "source": [
    "# Loading CCMSIDs\n",
    "CCMSIDs = np.load('./H_qtof_CCMSIDs.npy').tolist()\n",
    "print(len(CCMSIDs))"
   ]
  },
  {
   "cell_type": "markdown",
   "id": "1e4cea79-c63f-415a-b22d-e2f34a65eaf9",
   "metadata": {},
   "source": [
    "## Supplement smiles to gnps info"
   ]
  },
  {
   "cell_type": "code",
   "execution_count": 4,
   "id": "228f83d8-a194-428d-be0e-34cceef2cf78",
   "metadata": {},
   "outputs": [],
   "source": [
    "edbms2_file = '../msdb/edb_info.json'\n",
    "GNPS_INFO = functions_new.json_load(edbms2_file)\n",
    "\n",
    "gnps_clean_file = '../msdb/FS_edb_smi.json'\n",
    "GNPS_SMI = functions_new.json_load(gnps_clean_file)"
   ]
  },
  {
   "cell_type": "code",
   "execution_count": null,
   "id": "536bd8c5-7ed2-4e7c-ab2c-a4c5f15d039e",
   "metadata": {},
   "outputs": [],
   "source": [
    "RDLogger.DisableLog('rdApp.*') # Turn off output of RDkit\n",
    "KEY_to_SUPP = []\n",
    "for key, values in tqdm(GNPS_INFO.items(),total = len(GNPS_INFO)): # CCMSLIB00000001547\n",
    "    mol = Chem.MolFromSmiles(values['smiles'])\n",
    "    if mol is None:\n",
    "        KEY_to_SUPP.append(key)\n"
   ]
  },
  {
   "cell_type": "code",
   "execution_count": 32,
   "id": "7333aff4-0428-4e22-91b1-e78f04ca9f26",
   "metadata": {},
   "outputs": [
    {
     "data": {
      "text/plain": [
       "3537"
      ]
     },
     "execution_count": 32,
     "metadata": {},
     "output_type": "execute_result"
    }
   ],
   "source": [
    "len(KEY_to_SUPP)"
   ]
  },
  {
   "cell_type": "code",
   "execution_count": null,
   "id": "50fc0e84-9354-49b8-a08b-48040b32e338",
   "metadata": {},
   "outputs": [],
   "source": [
    "SMI_DICT = {SPECTRUM['id']:SPECTRUM['smile'] for SPECTRUM in GNPS_SMI} # CLEAN"
   ]
  },
  {
   "cell_type": "code",
   "execution_count": 31,
   "id": "fa6826e6-b05c-4c7f-b4c2-a4d8382db29a",
   "metadata": {},
   "outputs": [
    {
     "data": {
      "text/plain": [
       "3537"
      ]
     },
     "execution_count": 31,
     "metadata": {},
     "output_type": "execute_result"
    }
   ],
   "source": [
    "n = 0\n",
    "for key in KEY_to_SUPP:\n",
    "    try:\n",
    "        SMI_DICT['key']\n",
    "    except:\n",
    "        n +=1\n",
    "n"
   ]
  },
  {
   "cell_type": "markdown",
   "id": "886c8f7e-c8c0-4197-aedf-1628d377e4b6",
   "metadata": {},
   "source": [
    "## Supplementing attributes  \n",
    "### Spectral properties\n",
    "entropy,n_peaks,adduct,canonsmiles,adducts"
   ]
  },
  {
   "cell_type": "code",
   "execution_count": null,
   "id": "4b992f77-a359-4a02-aeb8-2ab524993c56",
   "metadata": {},
   "outputs": [],
   "source": [
    "GNPS_JSON = ''../msdb/GNPSLIBRARY_250514/GNPS-LIBRARY-INFO.json''\n",
    "with open(GNPS_JSON, 'r') as f:\n",
    "    gnps_info = json.load(f)\n",
    "\n",
    "idx=0\n",
    "for key in tqdm(gnps_info.keys(), total=len(gnps_info)):\n",
    "    spec, spectrum = functions_new.GNPS_info_format(gnps_info, key)\n",
    "    num_fragments = len(spec)\n",
    "    entropy = calculate_entropy(spec)\n",
    "    gnps_info[key]['NUM_FRAGMENTS'] = f'{num_fragments}'\n",
    "    gnps_info[key]['ENTROPY'] = f'{entropy}'\n",
    "    gnps_info[key]['ADDUCT'] = gnps_info[key]['NAME'].split()[-1]\n",
    "    gnps_info[key]['INDEX'] = f'{idx}'\n",
    "    idx +=1\n",
    "    try:\n",
    "        gnps_info[key]['CANONSMILES'] = Chem.CanonSmiles(gnps_info[key]['SMILE'])\n",
    "    except:\n",
    "        gnps_info[key]['CANONSMILES'] = 'nah'\n",
    "        \n",
    "with open('../msdb/GNPSLIBRARY_250514/GNPS-LIBRARY-INFO_new.json', 'w') as f1: # be different with the original json file or overwrite mistake happens \n",
    "    json.dump(gnps_info, f1)"
   ]
  },
  {
   "cell_type": "markdown",
   "id": "24284bdf-e67f-410a-b43f-524928c98cac",
   "metadata": {},
   "source": [
    "### Properties of structures behind spectra\n",
    "NPclassifier class supplement\n",
    "#### 1. Converting coconut csv file to json format, with CanonSmiles as keys Supplementing by CanonSmiles keys"
   ]
  },
  {
   "cell_type": "code",
   "execution_count": null,
   "id": "b6a2b8ca-a40b-4709-84dd-944cc783a7c1",
   "metadata": {},
   "outputs": [],
   "source": [
    "# Load GNPS dataset\n",
    "gnps_file = '../msdb/GNPSLIBRARY_250514/GNPS-LIBRARY-INFO.json'\n",
    "with open(gnps_file,'r') as f:\n",
    "    gnps_info = json.load(f)\n",
    "\n",
    "# Load COCONUT csv\n",
    "COCONUT_file = '../msdb/COCONUT_2506/coconut_csv_lite-06-2025.csv'\n",
    "COCONUT_DF = pd.read_csv(COCONUT_file)\n",
    "\n",
    "# Convert COCONUT csv to json, using CANONSMILES as key for quick accession\n",
    "COCONUT_DICT={}\n",
    "for index, row in tqdm(COCONUT_DF.iterrows(),total=len(COCONUT_DF)):\n",
    "    try:\n",
    "        CANONSMILE = Chem.CanonSmiles(row['canonical_smiles'],useChiral=0)\n",
    "        COCONUT_DICT[CANONSMILE] = {'np_classifier_superclass': row['np_classifier_superclass'],\n",
    "                                             'np_classifier_class':row['np_classifier_class']}\n",
    "    except:pass\n",
    "with open('../msdb/COCONUT_2506/COCONUT.json','w') as f:\n",
    "    json.dump(COCONUT_DICT,f)\n",
    "\n",
    "# Supplement gnps_info\n",
    "with open('../msdb/COCONUT_2506/COCONUT.json','r') as f1:\n",
    "    COCONUT_INFO = json.load(f1)\n",
    "\n",
    "for key, value in tqdm(gnps_info.items(), total=len(gnps_info)):\n",
    "    try:\n",
    "        SMILE1 = value['CANONSMILES']\n",
    "        value['np_classifier_superclass'] = COCONUT_INFO[SMILE1]['np_classifier_superclass']\n",
    "        value['np_classifier_class'] = COCONUT_INFO[SMILE1]['np_classifier_class']\n",
    "    except:pass\n",
    "\n",
    "with open('../msdb/GNPSLIBRARY_250514/GNPS-LIBRARY-INFO_new.json', 'w') as f:\n",
    "    json.dump(gnps_info, f)"
   ]
  },
  {
   "cell_type": "markdown",
   "id": "a813c42f-0f35-487d-be76-388dc9aa1b5c",
   "metadata": {},
   "source": [
    "#### 2. Requset from GNPS2 API"
   ]
  },
  {
   "cell_type": "code",
   "execution_count": 19,
   "id": "256e68af-fbc9-4df7-8246-c7463ea3f641",
   "metadata": {},
   "outputs": [],
   "source": [
    "import sys\n",
    "sys.path.append('../')\n",
    "import time,json,requests\n",
    "import numpy as np\n",
    "import pandas as pd\n",
    "from rdkit import Chem\n",
    "from tqdm import tqdm, trange\n",
    "from my_packages import functions_new, cheminfo_tools"
   ]
  },
  {
   "cell_type": "code",
   "execution_count": 5,
   "id": "a9272cef-ae25-43fb-b8f5-1037c608c469",
   "metadata": {},
   "outputs": [],
   "source": [
    "# Load gnps library\n",
    "gnps_file = '../msdb/GNPSLIBRARY_250514/GNPS-LIBRARY-INFO.json'\n",
    "with open(gnps_file,'r') as f:\n",
    "    gnps_info = json.load(f)"
   ]
  },
  {
   "cell_type": "code",
   "execution_count": null,
   "id": "8c496b8d-8cef-4eba-bb9f-b42d125730c3",
   "metadata": {},
   "outputs": [],
   "source": [
    "# Request and save as dict(CCMSID as ky)\n",
    "ToSup = np.load('../msdb/data/idlist/NpclasstoSupplement.npy')\n",
    "print(len(ToSup))\n",
    "failed_list = []\n",
    "dict ={}\n",
    "for CCMSID in tqdm(ToSup,total=len(ToSup)):\n",
    "    try:\n",
    "        SMILE1 = gnps_info[CCMSID]['CANONSMILES']\n",
    "        dict[CCMSID] = cheminfo_tools.NPclass_request(SMILE1)['superclass_results']\n",
    "        # gnps_info[CCMSID]['np_classifier_superclass'] = cheminfo_tools.NPclass_request(SMILE1)['superclass_results']\n",
    "        # # value['np_classifier_class'] = COCONUT_INFO[SMILE1]['np_classifier_class']\n",
    "    except:failed_list.append(CCMSID)\n",
    "\n",
    "with open('../msdb/data/idlist/NpclasstoSupplement.json','w') as f:\n",
    "    json.dump(dict,f)\n",
    "    \n",
    "# np.save('../msdb/data/idlist/failedCCMSID.npy', failed_list)"
   ]
  },
  {
   "cell_type": "code",
   "execution_count": null,
   "id": "a3dcd8bf-5b4e-4545-8f66-228420883cfa",
   "metadata": {},
   "outputs": [],
   "source": [
    "with open('../msdb/data/idlist/NpclasstoSupplement.json','r') as f:\n",
    "    json.dump(dict,f)\n",
    "    print(len(f))"
   ]
  },
  {
   "cell_type": "code",
   "execution_count": null,
   "id": "4d5f1b08-d56f-4510-9843-f3777322bc4f",
   "metadata": {},
   "outputs": [],
   "source": [
    "# Supplement\n",
    "# # 1 via json,some requset will success at second time \n",
    "# with open('toSupplement.json','r') as f:\n",
    "#     sup_info = json.load(f)\n",
    "# for key, value in sup_info.items():\n",
    "#     gnps_info[key]['np_classifier_superclass'] = value\n",
    "\n",
    "# 2 via csv, collect manully\n",
    "df = pd.read_csv('../msdb/data/idlist/NpclasstoSupplement.csv')\n",
    "for idx, row in df.iterrows():\n",
    "    ccmsid = row['ccmsid']\n",
    "    NPsuperclass = row['superclass']\n",
    "    gnps_info[ccmsid]['np_classifier_superclass'] = NPsuperclass\n",
    "\n",
    "# del gnps_info[\"np_classifier_superclass\"]\n",
    "with open('../msdb/GNPSLIBRARY_250514/GNPS-LIBRARY-INFO.json', 'w') as f:\n",
    "    json.dump(gnps_info, f)"
   ]
  },
  {
   "cell_type": "markdown",
   "id": "0f0761f1-b8cf-4b37-ab16-8637439ddb17",
   "metadata": {},
   "source": [
    "#### 3. Check missing NPclassifier classes"
   ]
  },
  {
   "cell_type": "code",
   "execution_count": 35,
   "id": "ed78fed0-a428-40e4-9395-a0f8ed5a291d",
   "metadata": {},
   "outputs": [
    {
     "data": {
      "text/plain": [
       "0"
      ]
     },
     "execution_count": 35,
     "metadata": {},
     "output_type": "execute_result"
    }
   ],
   "source": [
    "# Check missing\n",
    "CCMSIDs = np.load('../msdb/data/idlist/H_qtof_non-redundant_CCMSIDs.npy')\n",
    "list = []\n",
    "for CCMSID in CCMSIDs:\n",
    "    try:\n",
    "        test = gnps_info[CCMSID]['np_classifier_superclass']\n",
    "    except:\n",
    "        list.append(CCMSID)\n",
    "np.save('../msdb/data/idlist/NpclasstoSupplement.npy',list)\n",
    "len(list)"
   ]
  },
  {
   "cell_type": "code",
   "execution_count": 27,
   "id": "e7fe7b5a-ae0d-4d08-bba9-3c4211d19096",
   "metadata": {},
   "outputs": [],
   "source": [
    "# Collect NPclassifer superclass manually via （https://npclassifier.ucsd.edu/）\n",
    "ccmsidlist = np.load('../msdb/data/idlist/NpclasstoSupplement.npy')\n",
    "ccmsids, canonsmiles = [],[]\n",
    "for ccmsid in ccmsidlist:\n",
    "    smile = gnps_info[ccmsid]['CANONSMILES']\n",
    "    ccmsids.append(ccmsid)\n",
    "    canonsmiles.append(smile)\n",
    "df = pd.DataFrame({'ccmsid':ccmsids,'canonsmiles':canonsmiles})\n",
    "df.to_csv('../msdb/data/idlist/NpclasstoSupplement.csv')"
   ]
  },
  {
   "cell_type": "markdown",
   "id": "d39166a2-8b06-423b-aef7-f143fe60d642",
   "metadata": {},
   "source": [
    "## Statistics\n",
    "### Instrument"
   ]
  },
  {
   "cell_type": "code",
   "execution_count": 1,
   "id": "c731ea9c-df4a-4aae-9db2-91fb8a3f5807",
   "metadata": {},
   "outputs": [],
   "source": [
    "import sys\n",
    "sys.path.append('../')\n",
    "import json\n",
    "from collections import Counter\n",
    "from my_packages import functions_new\n",
    "from tqdm import tqdm, trange\n",
    "import seaborn as sns\n",
    "import matplotlib.pyplot as plt"
   ]
  },
  {
   "cell_type": "code",
   "execution_count": 3,
   "id": "96253fc3-9ec0-4772-a279-6b300b4153b6",
   "metadata": {},
   "outputs": [],
   "source": [
    "# Load gnps-library\n",
    "info_file = '../msdb/GNPSLIBRARY_250514/GNPS-LIBRARY-INFO.json'\n",
    "gnps_info = functions_new.json_load(info_file)"
   ]
  },
  {
   "cell_type": "code",
   "execution_count": 6,
   "id": "1efa0107-eb40-4091-a79a-14f7fb389db1",
   "metadata": {},
   "outputs": [
    {
     "name": "stderr",
     "output_type": "stream",
     "text": [
      "100%|█████████████████████████████████| 15254/15254 [00:00<00:00, 714372.47it/s]"
     ]
    },
    {
     "name": "stdout",
     "output_type": "stream",
     "text": [
      "['Tryptophan alkaloids']\n"
     ]
    },
    {
     "name": "stderr",
     "output_type": "stream",
     "text": [
      "\n"
     ]
    }
   ],
   "source": [
    "# Statistics\n",
    "ADDUCTs,INSTRUMENTs,ENTROPYs,N_FRAGMENTs = [],[],[],[]\n",
    "for key, value in tqdm(gnps_info.items(),total = len(gnps_info)):\n",
    "    try:\n",
    "        ADDUCTs.append(value['ADDUCT'])\n",
    "        INSTRUMENTs.append(value['INSTRUMENT'])\n",
    "        N_FRAGMENTs.append(value['NUM_FRAGMENTS'])\n",
    "        ENTROPYs.append(value['ENTROPY'])\n",
    "    except:\n",
    "        print(value)"
   ]
  },
  {
   "cell_type": "code",
   "execution_count": 9,
   "id": "12e4f9ee-c5ec-438e-8169-5b31b1746d89",
   "metadata": {},
   "outputs": [
    {
     "data": {
      "text/plain": [
       "([('M+H', 9656),\n",
       "  ('M-H', 1998),\n",
       "  ('M+Na', 1478),\n",
       "  ('M-H2O+H', 253),\n",
       "  ('M+NH4', 240),\n",
       "  ('2M+Na', 224),\n",
       "  ('2M+H', 199),\n",
       "  ('M+K', 173),\n",
       "  ('M+H-H2O', 166)],\n",
       " 866)"
      ]
     },
     "execution_count": 9,
     "metadata": {},
     "output_type": "execute_result"
    }
   ],
   "source": [
    "# Statistics of adducts/instruments\n",
    "ADDUCT_statics = Counter(ADDUCTs)\n",
    "top9_adducts = ADDUCT_statics.most_common(9)\n",
    "other_adducts = sum(ADDUCT_statics.values()) - sum(count for _, count in top9_adducts)\n",
    "\n",
    "top9_adducts, other_adducts"
   ]
  },
  {
   "cell_type": "code",
   "execution_count": 21,
   "id": "23af0dc5-960d-41f4-be8c-30590712b393",
   "metadata": {},
   "outputs": [
    {
     "name": "stderr",
     "output_type": "stream",
     "text": [
      "100%|█████████████████████████████████| 15254/15254 [00:00<00:00, 579864.35it/s]"
     ]
    },
    {
     "name": "stdout",
     "output_type": "stream",
     "text": [
      "['Tryptophan alkaloids']\n"
     ]
    },
    {
     "name": "stderr",
     "output_type": "stream",
     "text": [
      "\n"
     ]
    }
   ],
   "source": [
    "PRECURSORs, ENTROPYs, N_FRAGMENTs = [],[],[]\n",
    "for key, value in tqdm(gnps_info.items(),total = len(gnps_info)):\n",
    "    try:\n",
    "        if value['ADDUCT'] == 'M+H':\n",
    "            PRECURSORs.append(float(value['PEPMASS']))\n",
    "            N_FRAGMENTs.append(int(value['NUM_FRAGMENTS']))\n",
    "            ENTROPYs.append(float(value['ENTROPY']))\n",
    "                    \n",
    "    except:\n",
    "        print(value)"
   ]
  },
  {
   "cell_type": "code",
   "execution_count": 27,
   "id": "4f385203-055e-43cb-91d1-bff6da181ef0",
   "metadata": {},
   "outputs": [
    {
     "name": "stderr",
     "output_type": "stream",
     "text": [
      "/var/folders/jn/9w7jb7xs59q_4h4hy8w5lchh0000gn/T/ipykernel_27322/2618138891.py:1: FutureWarning: \n",
      "\n",
      "`shade` is now deprecated in favor of `fill`; setting `fill=True`.\n",
      "This will become an error in seaborn v0.14.0; please update your code.\n",
      "\n",
      "  sns.kdeplot(y=PRECURSORs,x=ENTROPYs,shade = True,color ='red')\n"
     ]
    },
    {
     "data": {
      "text/plain": [
       "(0.0, 1500.0)"
      ]
     },
     "execution_count": 27,
     "metadata": {},
     "output_type": "execute_result"
    },
    {
     "data": {
      "image/png": "[encoded data removed]",
      "text/plain": [
       "<Figure size 640x480 with 1 Axes>"
      ]
     },
     "metadata": {},
     "output_type": "display_data"
    }
   ],
   "source": [
    "sns.kdeplot(y=PRECURSORs,x=ENTROPYs,shade = True,color ='red')\n",
    "plt.xlabel('Entropy', fontsize=12) \n",
    "plt.ylabel('Precursor m/z', fontsize=12) \n",
    "plt.xlim(0, 6) \n",
    "plt.ylim(0, 1500) "
   ]
  },
  {
   "cell_type": "code",
   "execution_count": 29,
   "id": "e34111ae-4775-4cc7-8862-27a951e63f75",
   "metadata": {},
   "outputs": [
    {
     "name": "stderr",
     "output_type": "stream",
     "text": [
      "/var/folders/jn/9w7jb7xs59q_4h4hy8w5lchh0000gn/T/ipykernel_27322/2822233901.py:1: FutureWarning: \n",
      "\n",
      "`shade` is now deprecated in favor of `fill`; setting `fill=True`.\n",
      "This will become an error in seaborn v0.14.0; please update your code.\n",
      "\n",
      "  sns.kdeplot(y=N_FRAGMENTs,x=ENTROPYs,shade = True,color ='blue')\n"
     ]
    },
    {
     "data": {
      "text/plain": [
       "(0.0, 400.0)"
      ]
     },
     "execution_count": 29,
     "metadata": {},
     "output_type": "execute_result"
    },
    {
     "data": {
      "image/png": "[encoded data removed]",
      "text/plain": [
       "<Figure size 640x480 with 1 Axes>"
      ]
     },
     "metadata": {},
     "output_type": "display_data"
    }
   ],
   "source": [
    "sns.kdeplot(y=N_FRAGMENTs,x=ENTROPYs,shade = True,color ='blue')\n",
    "plt.xlabel('Entropy', fontsize=12) \n",
    "plt.ylabel('Number of fragments', fontsize=12) \n",
    "plt.xlim(0, 6) \n",
    "plt.ylim(0, 400) "
   ]
  }
 ],
 "metadata": {
  "kernelspec": {
   "display_name": "Python 3 (ipykernel)",
   "language": "python",
   "name": "python3"
  },
  "language_info": {
   "codemirror_mode": {
    "name": "ipython",
    "version": 3
   },
   "file_extension": ".py",
   "mimetype": "text/x-python",
   "name": "python",
   "nbconvert_exporter": "python",
   "pygments_lexer": "ipython3",
   "version": "3.10.16"
  }
 },
 "nbformat": 4,
 "nbformat_minor": 5
}
