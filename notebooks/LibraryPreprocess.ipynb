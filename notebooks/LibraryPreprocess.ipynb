{
 "cells": [
  {
   "cell_type": "code",
   "execution_count": null,
   "id": "14416004-dc95-4fa4-9f73-15f37e49115b",
   "metadata": {},
   "outputs": [],
   "source": [
    "# This notebook records related code for library preprocessing\n",
    "# Here is a diagram showing the relative paths of the input and output files and folders\n",
    "# We provide compressed files in three folders: notebook, src, and msdb, at https://zenodo.org/uploads/17065209\n",
    "# Most input and output files are included except for some very large files, exceeding 20 GB, like the pairwise similarity matrix of each in-silico library.\n",
    "# Before using these codes, make sure to use them in the msanalyst folder cloned from git.\n",
    "'''\n",
    "MSanalyst/\n",
    "    ├── notebook/\n",
    "    ├── src/\n",
    "    └── msdb/\n",
    "        ├── GNPSLIBRARY/\n",
    "        |   ├── ISspec_demo/ (input) A demo of generating in-silico spectra files using cfmid is given\n",
    "        |   ├── ALL_GNPS_NO_PROPOGATED.mgf (input)\n",
    "        |   ├── GNPS-LIBRARY.mgf (input)\n",
    "        |   ├── edbMS1.csv (output)\n",
    "        |   ├── edb_info.json (output)\n",
    "        |   ├── isdbMS1.csv (output)\n",
    "        |   ├── isdb_info.json (output)\n",
    "        ├── GNPSLIBRARY_250514/\n",
    "        |   └── ALL_GNPS_NO_PROPOGATED.mgf (input)\n",
    "        ├── data/\n",
    "        |   ├── hqtof/\n",
    "        |   |   ├── idlist/\n",
    "        |   |   |   └── H_qtof_non-redundant_CCMSIDs.npy (output)\n",
    "        |   |   └── FS_hqtof.json (output)\n",
    "        |   └── idlist/\n",
    "        └── FS_isdb_e0.json (output) # Flash format for further\n",
    "        └── FS_isdb_e1.json (output) # Flash format\n",
    "        └── FS_isdb_e2.json (output) # Flash format\n",
    "        └── isdb_info.json (input)\n",
    "'''"
   ]
  },
  {
   "cell_type": "markdown",
   "id": "e2212425-67c7-4b1b-9e96-6b9e11aa1d56",
   "metadata": {},
   "source": [
    "# Import library"
   ]
  },
  {
   "cell_type": "code",
   "execution_count": 1,
   "id": "3ab27021-7d7e-4264-ae35-fed36b7e236b",
   "metadata": {},
   "outputs": [
    {
     "name": "stderr",
     "output_type": "stream",
     "text": [
      "Determination of memory status is not supported on this \n",
      " platform, measuring for memoryleaks will never fail\n"
     ]
    }
   ],
   "source": [
    "import sys, time,json,os,re,requests\n",
    "sys.argv = ['jupyter']  # Clear the parameters passed to Jupyter\n",
    "sys.path.append('../')\n",
    "from rdkit import RDLogger\n",
    "import numpy as np\n",
    "import pandas as pd\n",
    "from rdkit import Chem\n",
    "from my_packages import functions_new, cheminfo_tools\n",
    "from ms_entropy import FlashEntropySearch\n",
    "from collections import Counter\n",
    "from my_packages import functions_new\n",
    "from spectral_entropy import calculate_entropy\n",
    "from tqdm import tqdm, trange"
   ]
  },
  {
   "cell_type": "markdown",
   "id": "c7dd46f6-950e-4618-bb49-d28748c9327d",
   "metadata": {},
   "source": [
    "# Create library for MSanalyst\n",
    "## Experimental library"
   ]
  },
  {
   "cell_type": "code",
   "execution_count": 2,
   "id": "ce30ac62-38c6-4720-b040-0bacfc2398de",
   "metadata": {},
   "outputs": [],
   "source": [
    "# Load files\n",
    "# The file is too large to upload to github and can be downloaded at https://external.gnps2.org/gnpslibrary\n",
    "# The dataset is constantly updated, so filtering results may vary slightly.\n",
    "DIR = '../msdb/GNPSLIBRARY/'\n",
    "ALL_GNPS_NP_file = os.path.join(DIR,'ALL_GNPS_NO_PROPOGATED.mgf')\n",
    "ALL_GNPS_NP = functions_new.load_spectra_from_file(ALL_GNPS_NP_file)"
   ]
  },
  {
   "cell_type": "code",
   "execution_count": null,
   "id": "d8b7751a-984e-4238-b8aa-368b26ed518e",
   "metadata": {},
   "outputs": [],
   "source": [
    "# Access information\n",
    "GNPS_INFO = {}\n",
    "for i in trange(len(ALL_GNPS_NP)):\n",
    "    SPECTRUM = ALL_GNPS_NP[i]\n",
    "    METADATA = SPECTRUM.metadata # ionmode,smiles,inchi,precursor_mz,ionmode,spectrum_id\n",
    "    # try:\n",
    "    if METADATA['ionmode'] == 'positive':\n",
    "        MZ = SPECTRUM.mz\n",
    "        INT = SPECTRUM.intensities\n",
    "        PEAKs = np.column_stack((SPECTRUM.mz,SPECTRUM.intensities))\n",
    "        PM = METADATA['precursor_mz']\n",
    "        CHARGE = METADATA['charge']\n",
    "        IONMODE = METADATA['ionmode']\n",
    "        try:\n",
    "            SMILE = METADATA['smiles']\n",
    "        except:\n",
    "            SMILE = ''\n",
    "\n",
    "        try:\n",
    "            INCHI = METADATA['inchi']\n",
    "        except:\n",
    "            INCHI = ''\n",
    "            \n",
    "        CCMSID = METADATA['spectrum_id']\n",
    "        \n",
    "        GNPS_INFO[CCMSID] = {'pepmass':PM,'charge':CHARGE,'ionmode':IONMODE\n",
    "                             ,'smiles':SMILE,'inchi':INCHI,'ms2':PEAKs.tolist()}\n",
    "    # except:\n",
    "    #     pass"
   ]
  },
  {
   "cell_type": "code",
   "execution_count": 11,
   "id": "0418b232-e35d-4fa4-8237-023dbc82002b",
   "metadata": {},
   "outputs": [],
   "source": [
    "# Experimental MS1 library\n",
    "data_list_comprehension = [\n",
    "    {\n",
    "        'CCMSID': ccmsid,\n",
    "        'pepmass': info.get('pepmass'),\n",
    "        'smiles': info.get('smiles'),\n",
    "        'inchi': info.get('inchi')\n",
    "    }\n",
    "    for ccmsid, info in GNPS_INFO.items()\n",
    "]\n",
    "\n",
    "# Create the DataFrame\n",
    "df_comprehension = pd.DataFrame(data_list_comprehension)\n",
    "df_comprehension_FILE = os.path.join(DIR,'edbMS1.csv')\n",
    "df_comprehension.to_csv(df_comprehension_FILE)"
   ]
  },
  {
   "cell_type": "code",
   "execution_count": 12,
   "id": "c2b61580-454a-4dcf-8f43-5dc042134190",
   "metadata": {},
   "outputs": [],
   "source": [
    "# Experimental MS2 library\n",
    "GNPS_INFO_FILE = os.path.join(DIR,'edb_info.json')\n",
    "with open(GNPS_INFO_FILE, \"w\") as f:\n",
    "    json.dump(GNPS_INFO, f)"
   ]
  },
  {
   "cell_type": "markdown",
   "id": "6532f176-d9f4-475c-8de2-b3d39eb0b238",
   "metadata": {},
   "source": [
    "## In-silico library"
   ]
  },
  {
   "cell_type": "code",
   "execution_count": 5,
   "id": "18f33af8-3771-4149-b5ca-3d08c98683f9",
   "metadata": {},
   "outputs": [],
   "source": [
    "# The generation of in-silico library used the script \"../src/ISDB_generate.py\"\n",
    "# python ../src/ISDB_generate.py\n",
    "# Move the generated isdbMS1.csv and isdb_info.json to ../msdb/"
   ]
  },
  {
   "cell_type": "code",
   "execution_count": null,
   "id": "752e5157-3288-4ebf-8fb3-7d28cd4736fe",
   "metadata": {},
   "outputs": [],
   "source": [
    "# Load and convert to Flash format\n",
    "IS_LIBRARY_FILE = '../msdb/isdb_info.json'\n",
    "with open(IS_LIBRARY_FILE,'r') as f:\n",
    "    IS_INFO = json.load(f)\n",
    "\n",
    "# Three in-silico libraries predicted at 10,20 and 40 eV will be generated\n",
    "FS_IS_LIBRARY_e0,FS_IS_LIBRARY_e1,FS_IS_LIBRARY_e2 = [],[],[]\n",
    "for key, values in tqdm(IS_INFO.items(),total = len(IS_INFO)):\n",
    "    SPEC_STR_e0, SPEC_STR_e1, SPEC_STR_e2 = values['energy0_ms2'],values['energy1_ms2'],values['energy2_ms2']\n",
    "    PM = float(values['pepmass'])\n",
    "    FS_IS_LIBRARY_e0.append({\n",
    "        \"id\": key,\n",
    "        \"precursor_mz\": PM,\n",
    "        \"peaks\":functions_new.spec_str2array(SPEC_STR_e0,PM).tolist(),\n",
    "        \"smile\": values['smiles'],\n",
    "        \"charge\":1,\n",
    "        \"ion_mode\":'Positive'\n",
    "        })\n",
    "    FS_IS_LIBRARY_e1.append({\n",
    "        \"id\": key,\n",
    "        \"precursor_mz\": PM,\n",
    "        \"peaks\":functions_new.spec_str2array(SPEC_STR_e1,PM).tolist(),\n",
    "        \"smile\": values['smiles'],\n",
    "        \"charge\":1,\n",
    "        \"ion_mode\":'Positive'\n",
    "        })\n",
    "    FS_IS_LIBRARY_e2.append({\n",
    "        \"id\": key,\n",
    "        \"precursor_mz\": PM,\n",
    "        \"peaks\":functions_new.spec_str2array(SPEC_STR_e2,PM).tolist(),\n",
    "        \"smile\": values['smiles'],\n",
    "        \"charge\":1,\n",
    "        \"ion_mode\":'Positive'\n",
    "        })\n",
    "\n",
    "FS_GNPS_LIBRARY_OUTPUT0 = '../msdb/FS_isdb_e0.json'\n",
    "with open(FS_GNPS_LIBRARY_OUTPUT0, \"w\") as f:\n",
    "    json.dump(FS_IS_LIBRARY_e0, f)\n",
    "\n",
    "FS_GNPS_LIBRARY_OUTPUT1 = '../msdb/FS_isdb_e1.json'\n",
    "with open(FS_GNPS_LIBRARY_OUTPUT1, \"w\") as f:\n",
    "    json.dump(FS_IS_LIBRARY_e1, f)\n",
    "\n",
    "FS_GNPS_LIBRARY_OUTPUT2 = '../msdb/FS_isdb_e2.json'\n",
    "with open(FS_GNPS_LIBRARY_OUTPUT2, \"w\") as f:\n",
    "    json.dump(FS_IS_LIBRARY_e2, f)"
   ]
  },
  {
   "cell_type": "markdown",
   "id": "5d28f885-94b6-42f0-9118-2b83bce4db6e",
   "metadata": {},
   "source": [
    "# Create data for comparative analysis of spectral similarity distribution\n",
    "* Data for Figure 3H-I\n",
    "* Generate as '.npy' format\n",
    "  \n",
    "Since spectra have different adduct types,sourced from redundant structures and different instrument platforms\n",
    "It is necessary to remove the influences mentioned above before evaluating the spectral similarity matrices"
   ]
  },
  {
   "cell_type": "code",
   "execution_count": 3,
   "id": "930a1cac-ab83-462f-884c-5ce2f686021a",
   "metadata": {},
   "outputs": [],
   "source": [
    "# The file is too large to upload to github and can be downloaded at https://external.gnps2.org/gnpslibrary\n",
    "# The dataset is constantly updated, so filtering results may vary slightly\n",
    "DIR = '../msdb/GNPSLIBRARY/'\n",
    "GNPS_LIBRARY_file = os.path.join(DIR,'GNPS-LIBRARY.mgf') # Download from the GNPS\n",
    "GNPS_LIBRARY = functions_new.load_spectra_from_file(GNPS_LIBRARY_file)"
   ]
  },
  {
   "cell_type": "code",
   "execution_count": null,
   "id": "c413a470-ee6f-4230-9d68-aa077d085929",
   "metadata": {},
   "outputs": [],
   "source": [
    "t = time.time()\n",
    "# Filtering CCMSIDs by instrument and adduct type\n",
    "filtered_IDs, ADDUCTs, INSTRUMENTs,SMILES = [],[],[],[]\n",
    "PATTERN = re.compile(r'qtof$', re.IGNORECASE)\n",
    "for SPECTRUM in tqdm(GNPS_LIBRARY,total=len(GNPS_LIBRARY)):\n",
    "    METADATA = SPECTRUM.metadata\n",
    "    NAME = METADATA[\"compound_name\"]\n",
    "    ADDUCTs.append(NAME)\n",
    "    INSTRUMENT = METADATA[\"instrument_type\"]\n",
    "    INSTRUMENTs.append(INSTRUMENT)\n",
    "    SMILES = METADATA['smiles']\n",
    "    \n",
    "    if 'M+H' in NAME and re.search(PATTERN,INSTRUMENT):\n",
    "        try:\n",
    "            filtered_IDs.append(METADATA['spectrum_id'])\n",
    "            SMILES.append(SMILES)\n",
    "        except:\n",
    "            pass\n",
    "\n",
    "# Duplicate structures\n",
    "nonredundant_SMILES = []\n",
    "nonredundant_IDs = []\n",
    "for idx,ID in tqdm(enumerate(filtered_IDs),total=len(filtered_IDs)):\n",
    "    try:\n",
    "        SMILE1 = Chem.CanonSmiles(SMILES[idx])\n",
    "        if Chem.MolFromSmiles(SMILE1):\n",
    "            if not nonredundant_SMILES: # append the 1st smile in the empty list\n",
    "                nonredundant_SMILES.append(SMILE1)\n",
    "                nonredundant_IDs.append(ID)\n",
    "            else:\n",
    "                if Chem.CanonSmiles(SMILE1) not in nonredundant_SMILES:\n",
    "                    nonredundant_SMILES.append(SMILE1)\n",
    "                    nonredundant_IDs.append(ID)\n",
    "    except:pass\n",
    "\n",
    "# # Saving idx-CCMSIDs \n",
    "# np.save('../msdb/data/hqtof/idlist/H_qtof_non-redundant_CCMSIDs.npy',nonredundant_IDs)\n",
    "\n",
    "# Loading CCMSIDs\n",
    "CCMSIDs = np.load('../msdb/data/hqtof/idlist/H_qtof_non-redundant_CCMSIDs.npy').tolist()\n",
    "print(len(CCMSIDs))"
   ]
  },
  {
   "cell_type": "code",
   "execution_count": null,
   "id": "f17a965d-8163-4ec3-a4e7-45518dc39758",
   "metadata": {},
   "outputs": [],
   "source": [
    "# Create hqtof spectral file\n",
    "GNPS_SPECTRA = functions_new.load_spectra_from_file('../msdb/GNPSLIBRARY/GNPS-LIBRARY.mgf')\n",
    "Hqtof_CCMSIDs = list(np.load('../msdb/data/hqtof/idlist/H_qtof_non-redundant_CCMSIDs.npy'))\n",
    "\n",
    "FS_SPECTRA = []\n",
    "for SPECTRUM in tqdm(GNPS_SPECTRA,total = len(GNPS_SPECTRA)):\n",
    "    CCMSID = SPECTRUM.metadata['spectrum_id']\n",
    "    if CCMSID in Hqtof_CCMSIDs:\n",
    "        PM = SPECTRUM.metadata['precursor_mz']\n",
    "        IONMODE = SPECTRUM.metadata['ionmode']\n",
    "        try:\n",
    "            SMILE = SPECTRUM.metadata['smiles']\n",
    "        except:\n",
    "            SMILE = GNPS_INFO[CCMSID]['CANONSMILES']\n",
    "            \n",
    "        CHARGE = SPECTRUM.metadata['charge']\n",
    "        SCLASS = GNPS_INFO[CCMSID]['np_classifier_superclass']\n",
    "        \n",
    "        peaks = np.column_stack((SPECTRUM.mz,SPECTRUM.intensities))\n",
    "        # peaks = se.clean_spectrum(peaks, max_mz=PM + 1.6)\n",
    "        FS_SPECTRA.append({\n",
    "            \"id\": CCMSID,\n",
    "            \"precursor_mz\": PM,\n",
    "            \"peaks\": peaks.tolist(),\n",
    "            \"smile\": SMILE,\n",
    "            \"charge\": CHARGE,\n",
    "            \"ion_mode\":IONMODE,\n",
    "            'superclass':[SCLASS]\n",
    "            })\n",
    "\n",
    "# Save\n",
    "sorted_list = sorted(FS_SPECTRA, key=lambda x: x['precursor_mz'])\n",
    "FS_GNPS_LIBRARY_OUTPUT = '../msdb/data/hqtof/FS_hqtof.json'\n",
    "with open(FS_GNPS_LIBRARY_OUTPUT, \"w\") as f:\n",
    "    json.dump(sorted_list, f)"
   ]
  },
  {
   "cell_type": "code",
   "execution_count": null,
   "id": "66beffc6-c524-4308-ab57-ec172946ad60",
   "metadata": {},
   "outputs": [],
   "source": [
    "# Load hqtof data\n",
    "HQTOF = functions_new.json_load('../msdb/data/hqtof/FS_hqtof.json')\n",
    "hqtof_search = FlashEntropySearch()\n",
    "FS_SPECTRA = hqtof_search.build_index(HQTOF) # Pre-clean and sorted flash spectra"
   ]
  },
  {
   "cell_type": "markdown",
   "id": "d39166a2-8b06-423b-aef7-f143fe60d642",
   "metadata": {},
   "source": [
    "# Statistics"
   ]
  },
  {
   "cell_type": "markdown",
   "id": "e4aac75a-ffb7-464a-b1b1-b11df13879fd",
   "metadata": {},
   "source": [
    "## ALL_GNPS_NO_PROPOGATED"
   ]
  },
  {
   "cell_type": "code",
   "execution_count": null,
   "id": "5263d38b-104d-4d3f-910b-2580955f09ba",
   "metadata": {},
   "outputs": [],
   "source": [
    "# Load GNPS library file\n",
    "GNPS_FILE = '../msdb/GNPSLIBRARY/ALL_GNPS_NO_PROPOGATED.mgf'\n",
    "t = time.time() \n",
    "GNPS_INFO = list(functions_new.load_spectra_from_file(GNPS_FILE))\n",
    "print(f'Finished in {(time.time() - t) / 60:.2f} min')"
   ]
  },
  {
   "cell_type": "code",
   "execution_count": null,
   "id": "aaebfd78-d456-4ff0-96de-6851f0a93a56",
   "metadata": {},
   "outputs": [],
   "source": [
    "# Counts\n",
    "N_withoutSMILE, N_compound_name =0, 0\n",
    "PMs = []\n",
    "for INFO in tqdm(GNPS_INFO,total = len(GNPS_INFO)):\n",
    "    PM = INFO.metadata['precursor_mz']\n",
    "    PMs.append(PM)\n",
    "    \n",
    "    ID = INFO.metadata['spectrum_id']\n",
    "    NAME = INFO.metadata['compound_name']\n",
    "    if 'genistein' in NAME.lower():\n",
    "        N_compound_name +=1\n",
    "    try:\n",
    "        SMILE = INFO.metadata['smiles']\n",
    "        mol = Chem.MolFromSmiles(SMILE)\n",
    "    except:\n",
    "        N_withoutSMILE +=1"
   ]
  },
  {
   "cell_type": "code",
   "execution_count": null,
   "id": "c62a84ec-de7d-4839-8e1c-4b558592f6ba",
   "metadata": {},
   "outputs": [],
   "source": [
    "PM_dict = Counter(PMs)\n",
    "sorted_pms = sorted(PM_dict.items(), key=lambda item: item[1], reverse=True)\n",
    "print(f'Total number of spectra: {len(GNPS_INFO)}')\n",
    "print(f'Number of spectra with unique precursor mass: {len(PM_dict)}')\n",
    "print(f'Number of spectra without SMILE: {N_withoutSMILE}')\n",
    "print(f'There are {sorted_pms[0][1]} spectra with the same precursor m/z of {sorted_pms[0][0]}')"
   ]
  }
 ],
 "metadata": {
  "kernelspec": {
   "display_name": "Python 3 (ipykernel)",
   "language": "python",
   "name": "python3"
  },
  "language_info": {
   "codemirror_mode": {
    "name": "ipython",
    "version": 3
   },
   "file_extension": ".py",
   "mimetype": "text/x-python",
   "name": "python",
   "nbconvert_exporter": "python",
   "pygments_lexer": "ipython3",
   "version": "3.10.16"
  }
 },
 "nbformat": 4,
 "nbformat_minor": 5
}